{
  "nbformat": 4,
  "nbformat_minor": 0,
  "metadata": {
    "colab": {
      "name": "Introdução ao Pandas (Dados Banco Santander).ipynb",
      "provenance": [],
      "collapsed_sections": [],
      "authorship_tag": "ABX9TyMSp7xGatKNc6jskVEWzRYs",
      "include_colab_link": true
    },
    "kernelspec": {
      "name": "python3",
      "display_name": "Python 3"
    }
  },
  "cells": [
    {
      "cell_type": "markdown",
      "metadata": {
        "id": "view-in-github",
        "colab_type": "text"
      },
      "source": [
        "<a href=\"https://colab.research.google.com/github/ARMALVES/Portif-lio/blob/master/Introdu%C3%A7%C3%A3o_ao_Pandas_(Dados_Banco_Santander).ipynb\" target=\"_parent\"><img src=\"https://colab.research.google.com/assets/colab-badge.svg\" alt=\"Open In Colab\"/></a>"
      ]
    },
    {
      "cell_type": "markdown",
      "metadata": {
        "id": "es0AP_RbbMT1",
        "colab_type": "text"
      },
      "source": [
        "# by **Anselmo Alves**"
      ]
    },
    {
      "cell_type": "markdown",
      "metadata": {
        "id": "QE1e9WYSjoCL",
        "colab_type": "text"
      },
      "source": [
        ""
      ]
    },
    {
      "cell_type": "markdown",
      "metadata": {
        "id": "vvplGyW2N3rX",
        "colab_type": "text"
      },
      "source": [
        "#### **Data Science na Prática 2.0**\n",
        "*by [Anselmo Alves](https://github.com/ARMALVES)*\n",
        "\n",
        "---\n",
        "\n",
        "# Introdução - Primeiros códigos no Pandas\n",
        "\n",
        "* Extrai informações estatísticas\n",
        "  * Qual a média, mediana, valores máximos e mínimos?\n",
        "  * Qual é a distribuição das suas variáveis?\n",
        "  * Qual a correlação entre duas variáveis quaisquer?\n",
        "* Exportar os dados para um novo formato de arquivo\n",
        "* Visualizar gráficos dos mais diferentes tipos\n",
        "* Alimentar modelos de *machine learning* feitos em cima do Scikit-learn\n"
      ]
    },
    {
      "cell_type": "code",
      "metadata": {
        "id": "phlN2ibrjLfi",
        "colab_type": "code",
        "colab": {}
      },
      "source": [
        "# importando o pacote pandas\n",
        "import pandas as pd"
      ],
      "execution_count": 0,
      "outputs": []
    },
    {
      "cell_type": "code",
      "metadata": {
        "id": "g8rZ3qcVt_kY",
        "colab_type": "code",
        "colab": {}
      },
      "source": [
        "# importando os dados do Banco Santader\n",
        "df = pd.read_csv('https://raw.githubusercontent.com/ARMALVES/Portif-lio/master/BSBR.csv')"
      ],
      "execution_count": 0,
      "outputs": []
    },
    {
      "cell_type": "code",
      "metadata": {
        "id": "tuJj2wFYuFkN",
        "colab_type": "code",
        "colab": {
          "base_uri": "https://localhost:8080/",
          "height": 419
        },
        "outputId": "be368f28-b4ed-42fc-c056-b59b4888b187"
      },
      "source": [
        "df"
      ],
      "execution_count": 35,
      "outputs": [
        {
          "output_type": "execute_result",
          "data": {
            "text/html": [
              "<div>\n",
              "<style scoped>\n",
              "    .dataframe tbody tr th:only-of-type {\n",
              "        vertical-align: middle;\n",
              "    }\n",
              "\n",
              "    .dataframe tbody tr th {\n",
              "        vertical-align: top;\n",
              "    }\n",
              "\n",
              "    .dataframe thead th {\n",
              "        text-align: right;\n",
              "    }\n",
              "</style>\n",
              "<table border=\"1\" class=\"dataframe\">\n",
              "  <thead>\n",
              "    <tr style=\"text-align: right;\">\n",
              "      <th></th>\n",
              "      <th>Date</th>\n",
              "      <th>Open</th>\n",
              "      <th>High</th>\n",
              "      <th>Low</th>\n",
              "      <th>Close</th>\n",
              "      <th>Adj Close</th>\n",
              "      <th>Volume</th>\n",
              "    </tr>\n",
              "  </thead>\n",
              "  <tbody>\n",
              "    <tr>\n",
              "      <th>0</th>\n",
              "      <td>2019-06-17</td>\n",
              "      <td>11.07</td>\n",
              "      <td>11.27</td>\n",
              "      <td>11.02</td>\n",
              "      <td>11.06</td>\n",
              "      <td>10.368899</td>\n",
              "      <td>717200</td>\n",
              "    </tr>\n",
              "    <tr>\n",
              "      <th>1</th>\n",
              "      <td>2019-06-18</td>\n",
              "      <td>11.19</td>\n",
              "      <td>11.50</td>\n",
              "      <td>11.17</td>\n",
              "      <td>11.45</td>\n",
              "      <td>10.734529</td>\n",
              "      <td>1334500</td>\n",
              "    </tr>\n",
              "    <tr>\n",
              "      <th>2</th>\n",
              "      <td>2019-06-19</td>\n",
              "      <td>11.39</td>\n",
              "      <td>11.60</td>\n",
              "      <td>11.36</td>\n",
              "      <td>11.58</td>\n",
              "      <td>10.856406</td>\n",
              "      <td>1638100</td>\n",
              "    </tr>\n",
              "    <tr>\n",
              "      <th>3</th>\n",
              "      <td>2019-06-20</td>\n",
              "      <td>11.77</td>\n",
              "      <td>11.95</td>\n",
              "      <td>11.75</td>\n",
              "      <td>11.88</td>\n",
              "      <td>11.137659</td>\n",
              "      <td>475700</td>\n",
              "    </tr>\n",
              "    <tr>\n",
              "      <th>4</th>\n",
              "      <td>2019-06-21</td>\n",
              "      <td>11.78</td>\n",
              "      <td>11.99</td>\n",
              "      <td>11.74</td>\n",
              "      <td>11.80</td>\n",
              "      <td>11.062659</td>\n",
              "      <td>958300</td>\n",
              "    </tr>\n",
              "    <tr>\n",
              "      <th>...</th>\n",
              "      <td>...</td>\n",
              "      <td>...</td>\n",
              "      <td>...</td>\n",
              "      <td>...</td>\n",
              "      <td>...</td>\n",
              "      <td>...</td>\n",
              "      <td>...</td>\n",
              "    </tr>\n",
              "    <tr>\n",
              "      <th>246</th>\n",
              "      <td>2020-06-08</td>\n",
              "      <td>6.43</td>\n",
              "      <td>6.74</td>\n",
              "      <td>6.40</td>\n",
              "      <td>6.74</td>\n",
              "      <td>6.740000</td>\n",
              "      <td>1460700</td>\n",
              "    </tr>\n",
              "    <tr>\n",
              "      <th>247</th>\n",
              "      <td>2020-06-09</td>\n",
              "      <td>6.47</td>\n",
              "      <td>6.69</td>\n",
              "      <td>6.35</td>\n",
              "      <td>6.54</td>\n",
              "      <td>6.540000</td>\n",
              "      <td>1748800</td>\n",
              "    </tr>\n",
              "    <tr>\n",
              "      <th>248</th>\n",
              "      <td>2020-06-10</td>\n",
              "      <td>6.58</td>\n",
              "      <td>6.59</td>\n",
              "      <td>6.24</td>\n",
              "      <td>6.24</td>\n",
              "      <td>6.240000</td>\n",
              "      <td>1556600</td>\n",
              "    </tr>\n",
              "    <tr>\n",
              "      <th>249</th>\n",
              "      <td>2020-06-11</td>\n",
              "      <td>5.70</td>\n",
              "      <td>5.91</td>\n",
              "      <td>5.56</td>\n",
              "      <td>5.65</td>\n",
              "      <td>5.650000</td>\n",
              "      <td>1385000</td>\n",
              "    </tr>\n",
              "    <tr>\n",
              "      <th>250</th>\n",
              "      <td>2020-06-12</td>\n",
              "      <td>5.88</td>\n",
              "      <td>6.08</td>\n",
              "      <td>5.79</td>\n",
              "      <td>5.98</td>\n",
              "      <td>5.980000</td>\n",
              "      <td>1758700</td>\n",
              "    </tr>\n",
              "  </tbody>\n",
              "</table>\n",
              "<p>251 rows × 7 columns</p>\n",
              "</div>"
            ],
            "text/plain": [
              "           Date   Open   High    Low  Close  Adj Close   Volume\n",
              "0    2019-06-17  11.07  11.27  11.02  11.06  10.368899   717200\n",
              "1    2019-06-18  11.19  11.50  11.17  11.45  10.734529  1334500\n",
              "2    2019-06-19  11.39  11.60  11.36  11.58  10.856406  1638100\n",
              "3    2019-06-20  11.77  11.95  11.75  11.88  11.137659   475700\n",
              "4    2019-06-21  11.78  11.99  11.74  11.80  11.062659   958300\n",
              "..          ...    ...    ...    ...    ...        ...      ...\n",
              "246  2020-06-08   6.43   6.74   6.40   6.74   6.740000  1460700\n",
              "247  2020-06-09   6.47   6.69   6.35   6.54   6.540000  1748800\n",
              "248  2020-06-10   6.58   6.59   6.24   6.24   6.240000  1556600\n",
              "249  2020-06-11   5.70   5.91   5.56   5.65   5.650000  1385000\n",
              "250  2020-06-12   5.88   6.08   5.79   5.98   5.980000  1758700\n",
              "\n",
              "[251 rows x 7 columns]"
            ]
          },
          "metadata": {
            "tags": []
          },
          "execution_count": 35
        }
      ]
    },
    {
      "cell_type": "code",
      "metadata": {
        "id": "DZDdiNvcwYIy",
        "colab_type": "code",
        "colab": {
          "base_uri": "https://localhost:8080/",
          "height": 34
        },
        "outputId": "a753f3e5-ef9e-4d10-edd1-996824552967"
      },
      "source": [
        "# verificando tipos da variável df\n",
        "type(df)"
      ],
      "execution_count": 39,
      "outputs": [
        {
          "output_type": "execute_result",
          "data": {
            "text/plain": [
              "pandas.core.frame.DataFrame"
            ]
          },
          "metadata": {
            "tags": []
          },
          "execution_count": 39
        }
      ]
    },
    {
      "cell_type": "code",
      "metadata": {
        "id": "66S1g3XuwwKu",
        "colab_type": "code",
        "colab": {
          "base_uri": "https://localhost:8080/",
          "height": 34
        },
        "outputId": "fc8379f1-e3f1-4b56-f377-e79539209b66"
      },
      "source": [
        "# verificando o tipo da coluna (series) da variável\n",
        "#df.dtypes\n",
        "type(df['Open'])"
      ],
      "execution_count": 42,
      "outputs": [
        {
          "output_type": "execute_result",
          "data": {
            "text/plain": [
              "pandas.core.series.Series"
            ]
          },
          "metadata": {
            "tags": []
          },
          "execution_count": 42
        }
      ]
    },
    {
      "cell_type": "markdown",
      "metadata": {
        "id": "6uHTGouixuq1",
        "colab_type": "text"
      },
      "source": [
        "# Verificando as Dimensões do DataFrame"
      ]
    },
    {
      "cell_type": "code",
      "metadata": {
        "id": "psxJgRBixr90",
        "colab_type": "code",
        "colab": {
          "base_uri": "https://localhost:8080/",
          "height": 34
        },
        "outputId": "33906ed8-1c7f-42e0-a1f2-10939e165633"
      },
      "source": [
        "# ver o tamanho do DataFrame (formato)\n",
        "df.shape"
      ],
      "execution_count": 49,
      "outputs": [
        {
          "output_type": "execute_result",
          "data": {
            "text/plain": [
              "(251, 7)"
            ]
          },
          "metadata": {
            "tags": []
          },
          "execution_count": 49
        }
      ]
    },
    {
      "cell_type": "code",
      "metadata": {
        "id": "UVSA669Tx7qg",
        "colab_type": "code",
        "colab": {
          "base_uri": "https://localhost:8080/",
          "height": 204
        },
        "outputId": "05ea18fd-943b-4fe2-acde-a4185e3aca91"
      },
      "source": [
        "# verificando as 5 primeiras linhas do DataFrame\n",
        "df.head()"
      ],
      "execution_count": 51,
      "outputs": [
        {
          "output_type": "execute_result",
          "data": {
            "text/html": [
              "<div>\n",
              "<style scoped>\n",
              "    .dataframe tbody tr th:only-of-type {\n",
              "        vertical-align: middle;\n",
              "    }\n",
              "\n",
              "    .dataframe tbody tr th {\n",
              "        vertical-align: top;\n",
              "    }\n",
              "\n",
              "    .dataframe thead th {\n",
              "        text-align: right;\n",
              "    }\n",
              "</style>\n",
              "<table border=\"1\" class=\"dataframe\">\n",
              "  <thead>\n",
              "    <tr style=\"text-align: right;\">\n",
              "      <th></th>\n",
              "      <th>Date</th>\n",
              "      <th>Open</th>\n",
              "      <th>High</th>\n",
              "      <th>Low</th>\n",
              "      <th>Close</th>\n",
              "      <th>Adj Close</th>\n",
              "      <th>Volume</th>\n",
              "    </tr>\n",
              "  </thead>\n",
              "  <tbody>\n",
              "    <tr>\n",
              "      <th>0</th>\n",
              "      <td>2019-06-17</td>\n",
              "      <td>11.07</td>\n",
              "      <td>11.27</td>\n",
              "      <td>11.02</td>\n",
              "      <td>11.06</td>\n",
              "      <td>10.368899</td>\n",
              "      <td>717200</td>\n",
              "    </tr>\n",
              "    <tr>\n",
              "      <th>1</th>\n",
              "      <td>2019-06-18</td>\n",
              "      <td>11.19</td>\n",
              "      <td>11.50</td>\n",
              "      <td>11.17</td>\n",
              "      <td>11.45</td>\n",
              "      <td>10.734529</td>\n",
              "      <td>1334500</td>\n",
              "    </tr>\n",
              "    <tr>\n",
              "      <th>2</th>\n",
              "      <td>2019-06-19</td>\n",
              "      <td>11.39</td>\n",
              "      <td>11.60</td>\n",
              "      <td>11.36</td>\n",
              "      <td>11.58</td>\n",
              "      <td>10.856406</td>\n",
              "      <td>1638100</td>\n",
              "    </tr>\n",
              "    <tr>\n",
              "      <th>3</th>\n",
              "      <td>2019-06-20</td>\n",
              "      <td>11.77</td>\n",
              "      <td>11.95</td>\n",
              "      <td>11.75</td>\n",
              "      <td>11.88</td>\n",
              "      <td>11.137659</td>\n",
              "      <td>475700</td>\n",
              "    </tr>\n",
              "    <tr>\n",
              "      <th>4</th>\n",
              "      <td>2019-06-21</td>\n",
              "      <td>11.78</td>\n",
              "      <td>11.99</td>\n",
              "      <td>11.74</td>\n",
              "      <td>11.80</td>\n",
              "      <td>11.062659</td>\n",
              "      <td>958300</td>\n",
              "    </tr>\n",
              "  </tbody>\n",
              "</table>\n",
              "</div>"
            ],
            "text/plain": [
              "         Date   Open   High    Low  Close  Adj Close   Volume\n",
              "0  2019-06-17  11.07  11.27  11.02  11.06  10.368899   717200\n",
              "1  2019-06-18  11.19  11.50  11.17  11.45  10.734529  1334500\n",
              "2  2019-06-19  11.39  11.60  11.36  11.58  10.856406  1638100\n",
              "3  2019-06-20  11.77  11.95  11.75  11.88  11.137659   475700\n",
              "4  2019-06-21  11.78  11.99  11.74  11.80  11.062659   958300"
            ]
          },
          "metadata": {
            "tags": []
          },
          "execution_count": 51
        }
      ]
    },
    {
      "cell_type": "code",
      "metadata": {
        "id": "IYQ_QIJhynk5",
        "colab_type": "code",
        "colab": {
          "base_uri": "https://localhost:8080/",
          "height": 204
        },
        "outputId": "5760541d-2445-4cde-ebf2-7c13baa529fd"
      },
      "source": [
        "# verificando as 5 últimas linhas do DataFrame\n",
        "df.tail()"
      ],
      "execution_count": 55,
      "outputs": [
        {
          "output_type": "execute_result",
          "data": {
            "text/html": [
              "<div>\n",
              "<style scoped>\n",
              "    .dataframe tbody tr th:only-of-type {\n",
              "        vertical-align: middle;\n",
              "    }\n",
              "\n",
              "    .dataframe tbody tr th {\n",
              "        vertical-align: top;\n",
              "    }\n",
              "\n",
              "    .dataframe thead th {\n",
              "        text-align: right;\n",
              "    }\n",
              "</style>\n",
              "<table border=\"1\" class=\"dataframe\">\n",
              "  <thead>\n",
              "    <tr style=\"text-align: right;\">\n",
              "      <th></th>\n",
              "      <th>Date</th>\n",
              "      <th>Open</th>\n",
              "      <th>High</th>\n",
              "      <th>Low</th>\n",
              "      <th>Close</th>\n",
              "      <th>Adj Close</th>\n",
              "      <th>Volume</th>\n",
              "    </tr>\n",
              "  </thead>\n",
              "  <tbody>\n",
              "    <tr>\n",
              "      <th>246</th>\n",
              "      <td>2020-06-08</td>\n",
              "      <td>6.43</td>\n",
              "      <td>6.74</td>\n",
              "      <td>6.40</td>\n",
              "      <td>6.74</td>\n",
              "      <td>6.74</td>\n",
              "      <td>1460700</td>\n",
              "    </tr>\n",
              "    <tr>\n",
              "      <th>247</th>\n",
              "      <td>2020-06-09</td>\n",
              "      <td>6.47</td>\n",
              "      <td>6.69</td>\n",
              "      <td>6.35</td>\n",
              "      <td>6.54</td>\n",
              "      <td>6.54</td>\n",
              "      <td>1748800</td>\n",
              "    </tr>\n",
              "    <tr>\n",
              "      <th>248</th>\n",
              "      <td>2020-06-10</td>\n",
              "      <td>6.58</td>\n",
              "      <td>6.59</td>\n",
              "      <td>6.24</td>\n",
              "      <td>6.24</td>\n",
              "      <td>6.24</td>\n",
              "      <td>1556600</td>\n",
              "    </tr>\n",
              "    <tr>\n",
              "      <th>249</th>\n",
              "      <td>2020-06-11</td>\n",
              "      <td>5.70</td>\n",
              "      <td>5.91</td>\n",
              "      <td>5.56</td>\n",
              "      <td>5.65</td>\n",
              "      <td>5.65</td>\n",
              "      <td>1385000</td>\n",
              "    </tr>\n",
              "    <tr>\n",
              "      <th>250</th>\n",
              "      <td>2020-06-12</td>\n",
              "      <td>5.88</td>\n",
              "      <td>6.08</td>\n",
              "      <td>5.79</td>\n",
              "      <td>5.98</td>\n",
              "      <td>5.98</td>\n",
              "      <td>1758700</td>\n",
              "    </tr>\n",
              "  </tbody>\n",
              "</table>\n",
              "</div>"
            ],
            "text/plain": [
              "           Date  Open  High   Low  Close  Adj Close   Volume\n",
              "246  2020-06-08  6.43  6.74  6.40   6.74       6.74  1460700\n",
              "247  2020-06-09  6.47  6.69  6.35   6.54       6.54  1748800\n",
              "248  2020-06-10  6.58  6.59  6.24   6.24       6.24  1556600\n",
              "249  2020-06-11  5.70  5.91  5.56   5.65       5.65  1385000\n",
              "250  2020-06-12  5.88  6.08  5.79   5.98       5.98  1758700"
            ]
          },
          "metadata": {
            "tags": []
          },
          "execution_count": 55
        }
      ]
    },
    {
      "cell_type": "code",
      "metadata": {
        "id": "QKJ-XQeYywsq",
        "colab_type": "code",
        "colab": {
          "base_uri": "https://localhost:8080/",
          "height": 34
        },
        "outputId": "1f60f1ac-91ba-4754-db1f-f6f925ed5ce0"
      },
      "source": [
        "# verificando apenas os nomes das colunas\n",
        "df.columns"
      ],
      "execution_count": 57,
      "outputs": [
        {
          "output_type": "execute_result",
          "data": {
            "text/plain": [
              "Index(['Date', 'Open', 'High', 'Low', 'Close', 'Adj Close', 'Volume'], dtype='object')"
            ]
          },
          "metadata": {
            "tags": []
          },
          "execution_count": 57
        }
      ]
    },
    {
      "cell_type": "code",
      "metadata": {
        "id": "TavAoOaz22zD",
        "colab_type": "code",
        "colab": {
          "base_uri": "https://localhost:8080/",
          "height": 204
        },
        "outputId": "ff726687-5944-4fd4-e560-441eea7b9310"
      },
      "source": [
        "# escolhendo colunas específicas com pandas\n",
        "open_close = df[['Open','Close','Adj Close','Volume']]\n",
        "open_close.head()"
      ],
      "execution_count": 106,
      "outputs": [
        {
          "output_type": "execute_result",
          "data": {
            "text/html": [
              "<div>\n",
              "<style scoped>\n",
              "    .dataframe tbody tr th:only-of-type {\n",
              "        vertical-align: middle;\n",
              "    }\n",
              "\n",
              "    .dataframe tbody tr th {\n",
              "        vertical-align: top;\n",
              "    }\n",
              "\n",
              "    .dataframe thead th {\n",
              "        text-align: right;\n",
              "    }\n",
              "</style>\n",
              "<table border=\"1\" class=\"dataframe\">\n",
              "  <thead>\n",
              "    <tr style=\"text-align: right;\">\n",
              "      <th></th>\n",
              "      <th>Open</th>\n",
              "      <th>Close</th>\n",
              "      <th>Adj Close</th>\n",
              "      <th>Volume</th>\n",
              "    </tr>\n",
              "  </thead>\n",
              "  <tbody>\n",
              "    <tr>\n",
              "      <th>0</th>\n",
              "      <td>11.07</td>\n",
              "      <td>11.06</td>\n",
              "      <td>10.368899</td>\n",
              "      <td>717200</td>\n",
              "    </tr>\n",
              "    <tr>\n",
              "      <th>1</th>\n",
              "      <td>11.19</td>\n",
              "      <td>11.45</td>\n",
              "      <td>10.734529</td>\n",
              "      <td>1334500</td>\n",
              "    </tr>\n",
              "    <tr>\n",
              "      <th>2</th>\n",
              "      <td>11.39</td>\n",
              "      <td>11.58</td>\n",
              "      <td>10.856406</td>\n",
              "      <td>1638100</td>\n",
              "    </tr>\n",
              "    <tr>\n",
              "      <th>3</th>\n",
              "      <td>11.77</td>\n",
              "      <td>11.88</td>\n",
              "      <td>11.137659</td>\n",
              "      <td>475700</td>\n",
              "    </tr>\n",
              "    <tr>\n",
              "      <th>4</th>\n",
              "      <td>11.78</td>\n",
              "      <td>11.80</td>\n",
              "      <td>11.062659</td>\n",
              "      <td>958300</td>\n",
              "    </tr>\n",
              "  </tbody>\n",
              "</table>\n",
              "</div>"
            ],
            "text/plain": [
              "    Open  Close  Adj Close   Volume\n",
              "0  11.07  11.06  10.368899   717200\n",
              "1  11.19  11.45  10.734529  1334500\n",
              "2  11.39  11.58  10.856406  1638100\n",
              "3  11.77  11.88  11.137659   475700\n",
              "4  11.78  11.80  11.062659   958300"
            ]
          },
          "metadata": {
            "tags": []
          },
          "execution_count": 106
        }
      ]
    },
    {
      "cell_type": "code",
      "metadata": {
        "id": "R4bWiue_zY5P",
        "colab_type": "code",
        "colab": {
          "base_uri": "https://localhost:8080/",
          "height": 153
        },
        "outputId": "09bf7931-22a7-4610-c4c1-53b070f4dfd2"
      },
      "source": [
        "# verificando os tipos dos dados\n",
        "df.dtypes"
      ],
      "execution_count": 61,
      "outputs": [
        {
          "output_type": "execute_result",
          "data": {
            "text/plain": [
              "Date          object\n",
              "Open         float64\n",
              "High         float64\n",
              "Low          float64\n",
              "Close        float64\n",
              "Adj Close    float64\n",
              "Volume         int64\n",
              "dtype: object"
            ]
          },
          "metadata": {
            "tags": []
          },
          "execution_count": 61
        }
      ]
    },
    {
      "cell_type": "code",
      "metadata": {
        "id": "X0_ijcD1zrUS",
        "colab_type": "code",
        "colab": {
          "base_uri": "https://localhost:8080/",
          "height": 255
        },
        "outputId": "63440e43-d04c-4044-cf5a-b42b884c9ed9"
      },
      "source": [
        "df.info()"
      ],
      "execution_count": 62,
      "outputs": [
        {
          "output_type": "stream",
          "text": [
            "<class 'pandas.core.frame.DataFrame'>\n",
            "RangeIndex: 251 entries, 0 to 250\n",
            "Data columns (total 7 columns):\n",
            " #   Column     Non-Null Count  Dtype  \n",
            "---  ------     --------------  -----  \n",
            " 0   Date       251 non-null    object \n",
            " 1   Open       251 non-null    float64\n",
            " 2   High       251 non-null    float64\n",
            " 3   Low        251 non-null    float64\n",
            " 4   Close      251 non-null    float64\n",
            " 5   Adj Close  251 non-null    float64\n",
            " 6   Volume     251 non-null    int64  \n",
            "dtypes: float64(5), int64(1), object(1)\n",
            "memory usage: 13.9+ KB\n"
          ],
          "name": "stdout"
        }
      ]
    },
    {
      "cell_type": "code",
      "metadata": {
        "id": "Nn_xIesJ0B4s",
        "colab_type": "code",
        "colab": {
          "base_uri": "https://localhost:8080/",
          "height": 221
        },
        "outputId": "f4d8a0d9-4ef8-4750-aa24-bf83315537ca"
      },
      "source": [
        "# selecionando uma coluna (Series) específica\n",
        "df['Low']\n",
        "# podemos usar também df.Low se a coluna for palavra simples e não composta"
      ],
      "execution_count": 64,
      "outputs": [
        {
          "output_type": "execute_result",
          "data": {
            "text/plain": [
              "0      11.02\n",
              "1      11.17\n",
              "2      11.36\n",
              "3      11.75\n",
              "4      11.74\n",
              "       ...  \n",
              "246     6.40\n",
              "247     6.35\n",
              "248     6.24\n",
              "249     5.56\n",
              "250     5.79\n",
              "Name: Low, Length: 251, dtype: float64"
            ]
          },
          "metadata": {
            "tags": []
          },
          "execution_count": 64
        }
      ]
    },
    {
      "cell_type": "code",
      "metadata": {
        "id": "OQCiib4T0Vie",
        "colab_type": "code",
        "colab": {
          "base_uri": "https://localhost:8080/",
          "height": 34
        },
        "outputId": "f4b63c97-5d15-4026-c45e-c97248506090"
      },
      "source": [
        "# calculando a média da coluna\n",
        "df['Low'].mean()\n",
        "# também pode ser usada dessa maneira se o nome da coluna não for composta\n",
        "#df.Low.mean()"
      ],
      "execution_count": 74,
      "outputs": [
        {
          "output_type": "execute_result",
          "data": {
            "text/plain": [
              "9.198924302788846"
            ]
          },
          "metadata": {
            "tags": []
          },
          "execution_count": 74
        }
      ]
    },
    {
      "cell_type": "markdown",
      "metadata": {
        "id": "ovrYeGLJ1WKq",
        "colab_type": "text"
      },
      "source": [
        "# **Trabalhando com DataTimes**"
      ]
    },
    {
      "cell_type": "code",
      "metadata": {
        "id": "NiGBKhRq0wTo",
        "colab_type": "code",
        "colab": {
          "base_uri": "https://localhost:8080/",
          "height": 221
        },
        "outputId": "51324248-0eb3-49be-e771-ce9706c7b404"
      },
      "source": [
        "# dados originais\n",
        "df.Date"
      ],
      "execution_count": 75,
      "outputs": [
        {
          "output_type": "execute_result",
          "data": {
            "text/plain": [
              "0      2019-06-17\n",
              "1      2019-06-18\n",
              "2      2019-06-19\n",
              "3      2019-06-20\n",
              "4      2019-06-21\n",
              "          ...    \n",
              "246    2020-06-08\n",
              "247    2020-06-09\n",
              "248    2020-06-10\n",
              "249    2020-06-11\n",
              "250    2020-06-12\n",
              "Name: Date, Length: 251, dtype: object"
            ]
          },
          "metadata": {
            "tags": []
          },
          "execution_count": 75
        }
      ]
    },
    {
      "cell_type": "code",
      "metadata": {
        "id": "kTS_LeQC1npK",
        "colab_type": "code",
        "colab": {}
      },
      "source": [
        "# convertendo coluna Date para datetime\n",
        "df.Date = pd.to_datetime(df.Date, format=\"%Y-%m-%d\")"
      ],
      "execution_count": 0,
      "outputs": []
    },
    {
      "cell_type": "code",
      "metadata": {
        "id": "nl9uzHZ816RZ",
        "colab_type": "code",
        "colab": {
          "base_uri": "https://localhost:8080/",
          "height": 221
        },
        "outputId": "31ab44bf-7c41-4fe4-b379-0f1bbd60811a"
      },
      "source": [
        "# dados convertidos\n",
        "df.Date"
      ],
      "execution_count": 80,
      "outputs": [
        {
          "output_type": "execute_result",
          "data": {
            "text/plain": [
              "0     2019-06-17\n",
              "1     2019-06-18\n",
              "2     2019-06-19\n",
              "3     2019-06-20\n",
              "4     2019-06-21\n",
              "         ...    \n",
              "246   2020-06-08\n",
              "247   2020-06-09\n",
              "248   2020-06-10\n",
              "249   2020-06-11\n",
              "250   2020-06-12\n",
              "Name: Date, Length: 251, dtype: datetime64[ns]"
            ]
          },
          "metadata": {
            "tags": []
          },
          "execution_count": 80
        }
      ]
    },
    {
      "cell_type": "code",
      "metadata": {
        "id": "mkjfwQdV2M_W",
        "colab_type": "code",
        "colab": {
          "base_uri": "https://localhost:8080/",
          "height": 221
        },
        "outputId": "d0836f7d-6465-431c-a744-c3ae0b237f12"
      },
      "source": [
        "# manipulando os dados tipo datetime\n",
        "df.Date.dt.year"
      ],
      "execution_count": 81,
      "outputs": [
        {
          "output_type": "execute_result",
          "data": {
            "text/plain": [
              "0      2019\n",
              "1      2019\n",
              "2      2019\n",
              "3      2019\n",
              "4      2019\n",
              "       ... \n",
              "246    2020\n",
              "247    2020\n",
              "248    2020\n",
              "249    2020\n",
              "250    2020\n",
              "Name: Date, Length: 251, dtype: int64"
            ]
          },
          "metadata": {
            "tags": []
          },
          "execution_count": 81
        }
      ]
    },
    {
      "cell_type": "code",
      "metadata": {
        "id": "dTx0F4Dt2bD-",
        "colab_type": "code",
        "colab": {
          "base_uri": "https://localhost:8080/",
          "height": 221
        },
        "outputId": "0cce8b01-2bc7-4acb-cccb-42549401e7e4"
      },
      "source": [
        "df.Date.dt.month"
      ],
      "execution_count": 82,
      "outputs": [
        {
          "output_type": "execute_result",
          "data": {
            "text/plain": [
              "0      6\n",
              "1      6\n",
              "2      6\n",
              "3      6\n",
              "4      6\n",
              "      ..\n",
              "246    6\n",
              "247    6\n",
              "248    6\n",
              "249    6\n",
              "250    6\n",
              "Name: Date, Length: 251, dtype: int64"
            ]
          },
          "metadata": {
            "tags": []
          },
          "execution_count": 82
        }
      ]
    },
    {
      "cell_type": "code",
      "metadata": {
        "id": "SnaA2alk2gkp",
        "colab_type": "code",
        "colab": {
          "base_uri": "https://localhost:8080/",
          "height": 221
        },
        "outputId": "edeac91e-4d93-4649-e73c-f0cb179324b1"
      },
      "source": [
        "df.Date.dt.day"
      ],
      "execution_count": 84,
      "outputs": [
        {
          "output_type": "execute_result",
          "data": {
            "text/plain": [
              "0      17\n",
              "1      18\n",
              "2      19\n",
              "3      20\n",
              "4      21\n",
              "       ..\n",
              "246     8\n",
              "247     9\n",
              "248    10\n",
              "249    11\n",
              "250    12\n",
              "Name: Date, Length: 251, dtype: int64"
            ]
          },
          "metadata": {
            "tags": []
          },
          "execution_count": 84
        }
      ]
    },
    {
      "cell_type": "code",
      "metadata": {
        "id": "KjmRUmvk2jNI",
        "colab_type": "code",
        "colab": {
          "base_uri": "https://localhost:8080/",
          "height": 221
        },
        "outputId": "07114fcd-b730-4973-926f-5abfe66e9e10"
      },
      "source": [
        "df.Date.dt.weekofyear"
      ],
      "execution_count": 85,
      "outputs": [
        {
          "output_type": "execute_result",
          "data": {
            "text/plain": [
              "0      25\n",
              "1      25\n",
              "2      25\n",
              "3      25\n",
              "4      25\n",
              "       ..\n",
              "246    24\n",
              "247    24\n",
              "248    24\n",
              "249    24\n",
              "250    24\n",
              "Name: Date, Length: 251, dtype: int64"
            ]
          },
          "metadata": {
            "tags": []
          },
          "execution_count": 85
        }
      ]
    },
    {
      "cell_type": "code",
      "metadata": {
        "id": "Pq-1C33f5aS2",
        "colab_type": "code",
        "colab": {
          "base_uri": "https://localhost:8080/",
          "height": 34
        },
        "outputId": "6f26756d-c5e6-42f7-e5c6-b4dba35ab330"
      },
      "source": [
        "df.columns"
      ],
      "execution_count": 97,
      "outputs": [
        {
          "output_type": "execute_result",
          "data": {
            "text/plain": [
              "Index(['Date', 'Open', 'High', 'Low', 'Close', 'Adj Close', 'Volume'], dtype='object')"
            ]
          },
          "metadata": {
            "tags": []
          },
          "execution_count": 97
        }
      ]
    },
    {
      "cell_type": "code",
      "metadata": {
        "id": "jJyseK1E4Qj-",
        "colab_type": "code",
        "colab": {}
      },
      "source": [
        ""
      ],
      "execution_count": 0,
      "outputs": []
    }
  ]
}